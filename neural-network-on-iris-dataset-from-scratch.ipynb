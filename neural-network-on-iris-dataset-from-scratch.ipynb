{
 "cells": [
  {
   "cell_type": "markdown",
   "metadata": {},
   "source": [
    "## Implementing Machine Learning using Neural Network (w/o any scify libraries)\n",
    "\n",
    "\n",
    "I have already learned the basics of Machine Learning and implemented topics like Linear/Logistic Regression and Neural Network in the Matlab programming language. But implementing the same algorithms using Python and Numpy is a little difficult for me and maybe for some other people as well.\n",
    "\n",
    "So here I am writing a very simple neural network for a very simple Iris dataset, especially for beginners.\n",
    "\n",
    "Any kind of comments are welcome, Thanks!"
   ]
  },
  {
   "cell_type": "code",
   "execution_count": 1,
   "metadata": {
    "_cell_guid": "b1076dfc-b9ad-4769-8c92-a6c4dae69d19",
    "_uuid": "8f2839f25d086af736a60e9eeb907d3b93b6e0e5"
   },
   "outputs": [
    {
     "name": "stdout",
     "output_type": "stream",
     "text": [
      "Iris.csv\n",
      "database.sqlite\n",
      "\n"
     ]
    }
   ],
   "source": [
    "# This Python 3 environment comes with many helpful analytics libraries installed\n",
    "# It is defined by the kaggle/python docker image: https://github.com/kaggle/docker-python\n",
    "# For example, here's several helpful packages to load in \n",
    "\n",
    "import warnings # filter warnings\n",
    "import numpy as np # linear algebra\n",
    "import pandas as pd # data processing, CSV file I/O (e.g. pd.read_csv)\n",
    "import seaborn as sns # for data visualisation\n",
    "from matplotlib import pyplot as plt # for data visualisation\n",
    "\n",
    "# crazy thing, to show graph in between cells\n",
    "%matplotlib inline \n",
    "\n",
    "warnings.filterwarnings('ignore')\n",
    "\n",
    "# Input data files are available in the \"../input/\" directory.\n",
    "# For example, running this (by clicking run or pressing Shift+Enter) will list the files in the input directory\n",
    "\n",
    "from subprocess import check_output\n",
    "print(check_output(['ls', '../input']).decode('utf8'))\n",
    "\n",
    "# Any results you write to the current directory are saved as output."
   ]
  },
  {
   "cell_type": "markdown",
   "metadata": {},
   "source": [
    "### Load Data"
   ]
  },
  {
   "cell_type": "code",
   "execution_count": 2,
   "metadata": {},
   "outputs": [
    {
     "data": {
      "text/html": [
       "<div>\n",
       "<style scoped>\n",
       "    .dataframe tbody tr th:only-of-type {\n",
       "        vertical-align: middle;\n",
       "    }\n",
       "\n",
       "    .dataframe tbody tr th {\n",
       "        vertical-align: top;\n",
       "    }\n",
       "\n",
       "    .dataframe thead th {\n",
       "        text-align: right;\n",
       "    }\n",
       "</style>\n",
       "<table border=\"1\" class=\"dataframe\">\n",
       "  <thead>\n",
       "    <tr style=\"text-align: right;\">\n",
       "      <th></th>\n",
       "      <th>Id</th>\n",
       "      <th>SepalLengthCm</th>\n",
       "      <th>SepalWidthCm</th>\n",
       "      <th>PetalLengthCm</th>\n",
       "      <th>PetalWidthCm</th>\n",
       "      <th>Species</th>\n",
       "    </tr>\n",
       "  </thead>\n",
       "  <tbody>\n",
       "    <tr>\n",
       "      <th>126</th>\n",
       "      <td>127</td>\n",
       "      <td>6.2</td>\n",
       "      <td>2.8</td>\n",
       "      <td>4.8</td>\n",
       "      <td>1.8</td>\n",
       "      <td>Iris-virginica</td>\n",
       "    </tr>\n",
       "    <tr>\n",
       "      <th>130</th>\n",
       "      <td>131</td>\n",
       "      <td>7.4</td>\n",
       "      <td>2.8</td>\n",
       "      <td>6.1</td>\n",
       "      <td>1.9</td>\n",
       "      <td>Iris-virginica</td>\n",
       "    </tr>\n",
       "    <tr>\n",
       "      <th>82</th>\n",
       "      <td>83</td>\n",
       "      <td>5.8</td>\n",
       "      <td>2.7</td>\n",
       "      <td>3.9</td>\n",
       "      <td>1.2</td>\n",
       "      <td>Iris-versicolor</td>\n",
       "    </tr>\n",
       "    <tr>\n",
       "      <th>19</th>\n",
       "      <td>20</td>\n",
       "      <td>5.1</td>\n",
       "      <td>3.8</td>\n",
       "      <td>1.5</td>\n",
       "      <td>0.3</td>\n",
       "      <td>Iris-setosa</td>\n",
       "    </tr>\n",
       "    <tr>\n",
       "      <th>143</th>\n",
       "      <td>144</td>\n",
       "      <td>6.8</td>\n",
       "      <td>3.2</td>\n",
       "      <td>5.9</td>\n",
       "      <td>2.3</td>\n",
       "      <td>Iris-virginica</td>\n",
       "    </tr>\n",
       "  </tbody>\n",
       "</table>\n",
       "</div>"
      ],
      "text/plain": [
       "      Id  SepalLengthCm       ...         PetalWidthCm          Species\n",
       "126  127            6.2       ...                  1.8   Iris-virginica\n",
       "130  131            7.4       ...                  1.9   Iris-virginica\n",
       "82    83            5.8       ...                  1.2  Iris-versicolor\n",
       "19    20            5.1       ...                  0.3      Iris-setosa\n",
       "143  144            6.8       ...                  2.3   Iris-virginica\n",
       "\n",
       "[5 rows x 6 columns]"
      ]
     },
     "execution_count": 2,
     "metadata": {},
     "output_type": "execute_result"
    }
   ],
   "source": [
    "# load Iris data\n",
    "data = pd.read_csv('../input/Iris.csv')\n",
    "data.sample(n=5)"
   ]
  },
  {
   "cell_type": "code",
   "execution_count": 3,
   "metadata": {},
   "outputs": [
    {
     "name": "stdout",
     "output_type": "stream",
     "text": [
      "<class 'pandas.core.frame.DataFrame'>\n",
      "RangeIndex: 150 entries, 0 to 149\n",
      "Data columns (total 6 columns):\n",
      "Id               150 non-null int64\n",
      "SepalLengthCm    150 non-null float64\n",
      "SepalWidthCm     150 non-null float64\n",
      "PetalLengthCm    150 non-null float64\n",
      "PetalWidthCm     150 non-null float64\n",
      "Species          150 non-null object\n",
      "dtypes: float64(4), int64(1), object(1)\n",
      "memory usage: 7.1+ KB\n"
     ]
    }
   ],
   "source": [
    "data.info()"
   ]
  },
  {
   "cell_type": "code",
   "execution_count": 4,
   "metadata": {},
   "outputs": [
    {
     "data": {
      "text/html": [
       "<div>\n",
       "<style scoped>\n",
       "    .dataframe tbody tr th:only-of-type {\n",
       "        vertical-align: middle;\n",
       "    }\n",
       "\n",
       "    .dataframe tbody tr th {\n",
       "        vertical-align: top;\n",
       "    }\n",
       "\n",
       "    .dataframe thead th {\n",
       "        text-align: right;\n",
       "    }\n",
       "</style>\n",
       "<table border=\"1\" class=\"dataframe\">\n",
       "  <thead>\n",
       "    <tr style=\"text-align: right;\">\n",
       "      <th></th>\n",
       "      <th>Id</th>\n",
       "      <th>SepalLengthCm</th>\n",
       "      <th>SepalWidthCm</th>\n",
       "      <th>PetalLengthCm</th>\n",
       "      <th>PetalWidthCm</th>\n",
       "    </tr>\n",
       "  </thead>\n",
       "  <tbody>\n",
       "    <tr>\n",
       "      <th>count</th>\n",
       "      <td>150.000000</td>\n",
       "      <td>150.000000</td>\n",
       "      <td>150.000000</td>\n",
       "      <td>150.000000</td>\n",
       "      <td>150.000000</td>\n",
       "    </tr>\n",
       "    <tr>\n",
       "      <th>mean</th>\n",
       "      <td>75.500000</td>\n",
       "      <td>5.843333</td>\n",
       "      <td>3.054000</td>\n",
       "      <td>3.758667</td>\n",
       "      <td>1.198667</td>\n",
       "    </tr>\n",
       "    <tr>\n",
       "      <th>std</th>\n",
       "      <td>43.445368</td>\n",
       "      <td>0.828066</td>\n",
       "      <td>0.433594</td>\n",
       "      <td>1.764420</td>\n",
       "      <td>0.763161</td>\n",
       "    </tr>\n",
       "    <tr>\n",
       "      <th>min</th>\n",
       "      <td>1.000000</td>\n",
       "      <td>4.300000</td>\n",
       "      <td>2.000000</td>\n",
       "      <td>1.000000</td>\n",
       "      <td>0.100000</td>\n",
       "    </tr>\n",
       "    <tr>\n",
       "      <th>25%</th>\n",
       "      <td>38.250000</td>\n",
       "      <td>5.100000</td>\n",
       "      <td>2.800000</td>\n",
       "      <td>1.600000</td>\n",
       "      <td>0.300000</td>\n",
       "    </tr>\n",
       "    <tr>\n",
       "      <th>50%</th>\n",
       "      <td>75.500000</td>\n",
       "      <td>5.800000</td>\n",
       "      <td>3.000000</td>\n",
       "      <td>4.350000</td>\n",
       "      <td>1.300000</td>\n",
       "    </tr>\n",
       "    <tr>\n",
       "      <th>75%</th>\n",
       "      <td>112.750000</td>\n",
       "      <td>6.400000</td>\n",
       "      <td>3.300000</td>\n",
       "      <td>5.100000</td>\n",
       "      <td>1.800000</td>\n",
       "    </tr>\n",
       "    <tr>\n",
       "      <th>max</th>\n",
       "      <td>150.000000</td>\n",
       "      <td>7.900000</td>\n",
       "      <td>4.400000</td>\n",
       "      <td>6.900000</td>\n",
       "      <td>2.500000</td>\n",
       "    </tr>\n",
       "  </tbody>\n",
       "</table>\n",
       "</div>"
      ],
      "text/plain": [
       "               Id  SepalLengthCm      ...       PetalLengthCm  PetalWidthCm\n",
       "count  150.000000     150.000000      ...          150.000000    150.000000\n",
       "mean    75.500000       5.843333      ...            3.758667      1.198667\n",
       "std     43.445368       0.828066      ...            1.764420      0.763161\n",
       "min      1.000000       4.300000      ...            1.000000      0.100000\n",
       "25%     38.250000       5.100000      ...            1.600000      0.300000\n",
       "50%     75.500000       5.800000      ...            4.350000      1.300000\n",
       "75%    112.750000       6.400000      ...            5.100000      1.800000\n",
       "max    150.000000       7.900000      ...            6.900000      2.500000\n",
       "\n",
       "[8 rows x 5 columns]"
      ]
     },
     "execution_count": 4,
     "metadata": {},
     "output_type": "execute_result"
    }
   ],
   "source": [
    "data.describe()"
   ]
  },
  {
   "cell_type": "markdown",
   "metadata": {},
   "source": [
    "### Data Visualise"
   ]
  },
  {
   "cell_type": "markdown",
   "metadata": {},
   "source": [
    "One thing is very clear from the below graph is that the features of Versicolor and Verginica are very similar since they overlap in most of the places but the features of setosa are different form the other two."
   ]
  },
  {
   "cell_type": "code",
   "execution_count": 5,
   "metadata": {},
   "outputs": [
    {
     "data": {
      "text/plain": [
       "<seaborn.axisgrid.PairGrid at 0x7f36d5f3b208>"
      ]
     },
     "execution_count": 5,
     "metadata": {},
     "output_type": "execute_result"
    },
    {
     "data": {
      "image/png": "[encoded data removed]",
      "text/plain": [
       "<Figure size 823.5x720 with 20 Axes>"
      ]
     },
     "metadata": {},
     "output_type": "display_data"
    }
   ],
   "source": [
    "# pair-plot of Iris dataset\n",
    "sns.pairplot(data=data, vars=('SepalLengthCm', 'SepalWidthCm', 'PetalLengthCm','PetalWidthCm'), hue='Species')"
   ]
  },
  {
   "cell_type": "markdown",
   "metadata": {},
   "source": [
    "### Normalizing Data\n",
    "\n",
    "In layman term, we do normalization to improve the overall performance of the model by minimizing the features values in the range between 0 to 1. You can read little more about normalization [here](https://stats.stackexchange.com/a/70807/241387)."
   ]
  },
  {
   "cell_type": "code",
   "execution_count": 6,
   "metadata": {},
   "outputs": [],
   "source": [
    "df_norm  = data[['SepalLengthCm', 'SepalWidthCm', 'PetalLengthCm','PetalWidthCm']].apply(lambda x: (x - x.min())/(x.max() - x.min()))"
   ]
  },
  {
   "cell_type": "markdown",
   "metadata": {},
   "source": [
    "> *Since, our data is normalised, now if we call the **`describe`** method on our dataset, we can see the **`min`** value for all column is **`0`** and **`max`** value for all column is **`1`**.*"
   ]
  },
  {
   "cell_type": "code",
   "execution_count": 7,
   "metadata": {},
   "outputs": [
    {
     "data": {
      "text/html": [
       "<div>\n",
       "<style scoped>\n",
       "    .dataframe tbody tr th:only-of-type {\n",
       "        vertical-align: middle;\n",
       "    }\n",
       "\n",
       "    .dataframe tbody tr th {\n",
       "        vertical-align: top;\n",
       "    }\n",
       "\n",
       "    .dataframe thead th {\n",
       "        text-align: right;\n",
       "    }\n",
       "</style>\n",
       "<table border=\"1\" class=\"dataframe\">\n",
       "  <thead>\n",
       "    <tr style=\"text-align: right;\">\n",
       "      <th></th>\n",
       "      <th>SepalLengthCm</th>\n",
       "      <th>SepalWidthCm</th>\n",
       "      <th>PetalLengthCm</th>\n",
       "      <th>PetalWidthCm</th>\n",
       "    </tr>\n",
       "  </thead>\n",
       "  <tbody>\n",
       "    <tr>\n",
       "      <th>count</th>\n",
       "      <td>150.000000</td>\n",
       "      <td>150.000000</td>\n",
       "      <td>150.000000</td>\n",
       "      <td>150.000000</td>\n",
       "    </tr>\n",
       "    <tr>\n",
       "      <th>mean</th>\n",
       "      <td>0.428704</td>\n",
       "      <td>0.439167</td>\n",
       "      <td>0.467571</td>\n",
       "      <td>0.457778</td>\n",
       "    </tr>\n",
       "    <tr>\n",
       "      <th>std</th>\n",
       "      <td>0.230018</td>\n",
       "      <td>0.180664</td>\n",
       "      <td>0.299054</td>\n",
       "      <td>0.317984</td>\n",
       "    </tr>\n",
       "    <tr>\n",
       "      <th>min</th>\n",
       "      <td>0.000000</td>\n",
       "      <td>0.000000</td>\n",
       "      <td>0.000000</td>\n",
       "      <td>0.000000</td>\n",
       "    </tr>\n",
       "    <tr>\n",
       "      <th>25%</th>\n",
       "      <td>0.222222</td>\n",
       "      <td>0.333333</td>\n",
       "      <td>0.101695</td>\n",
       "      <td>0.083333</td>\n",
       "    </tr>\n",
       "    <tr>\n",
       "      <th>50%</th>\n",
       "      <td>0.416667</td>\n",
       "      <td>0.416667</td>\n",
       "      <td>0.567797</td>\n",
       "      <td>0.500000</td>\n",
       "    </tr>\n",
       "    <tr>\n",
       "      <th>75%</th>\n",
       "      <td>0.583333</td>\n",
       "      <td>0.541667</td>\n",
       "      <td>0.694915</td>\n",
       "      <td>0.708333</td>\n",
       "    </tr>\n",
       "    <tr>\n",
       "      <th>max</th>\n",
       "      <td>1.000000</td>\n",
       "      <td>1.000000</td>\n",
       "      <td>1.000000</td>\n",
       "      <td>1.000000</td>\n",
       "    </tr>\n",
       "  </tbody>\n",
       "</table>\n",
       "</div>"
      ],
      "text/plain": [
       "       SepalLengthCm  SepalWidthCm  PetalLengthCm  PetalWidthCm\n",
       "count     150.000000    150.000000     150.000000    150.000000\n",
       "mean        0.428704      0.439167       0.467571      0.457778\n",
       "std         0.230018      0.180664       0.299054      0.317984\n",
       "min         0.000000      0.000000       0.000000      0.000000\n",
       "25%         0.222222      0.333333       0.101695      0.083333\n",
       "50%         0.416667      0.416667       0.567797      0.500000\n",
       "75%         0.583333      0.541667       0.694915      0.708333\n",
       "max         1.000000      1.000000       1.000000      1.000000"
      ]
     },
     "execution_count": 7,
     "metadata": {},
     "output_type": "execute_result"
    }
   ],
   "source": [
    "df_norm.describe()"
   ]
  },
  {
   "cell_type": "markdown",
   "metadata": {},
   "source": [
    "> ***Now let's map the species name to some unique number for easy calculations*.**"
   ]
  },
  {
   "cell_type": "code",
   "execution_count": 8,
   "metadata": {},
   "outputs": [
    {
     "data": {
      "text/plain": [
       "39     0\n",
       "56     1\n",
       "68     1\n",
       "139    2\n",
       "79     1\n",
       "Name: Species, dtype: int64"
      ]
     },
     "execution_count": 8,
     "metadata": {},
     "output_type": "execute_result"
    }
   ],
   "source": [
    "df_target = data['Species'].replace(['Iris-setosa', 'Iris-versicolor', 'Iris-virginica'], [0,1,2])\n",
    "df_target.sample(n=5)"
   ]
  },
  {
   "cell_type": "code",
   "execution_count": 9,
   "metadata": {},
   "outputs": [
    {
     "data": {
      "text/html": [
       "<div>\n",
       "<style scoped>\n",
       "    .dataframe tbody tr th:only-of-type {\n",
       "        vertical-align: middle;\n",
       "    }\n",
       "\n",
       "    .dataframe tbody tr th {\n",
       "        vertical-align: top;\n",
       "    }\n",
       "\n",
       "    .dataframe thead th {\n",
       "        text-align: right;\n",
       "    }\n",
       "</style>\n",
       "<table border=\"1\" class=\"dataframe\">\n",
       "  <thead>\n",
       "    <tr style=\"text-align: right;\">\n",
       "      <th></th>\n",
       "      <th>SepalLengthCm</th>\n",
       "      <th>SepalWidthCm</th>\n",
       "      <th>PetalLengthCm</th>\n",
       "      <th>PetalWidthCm</th>\n",
       "      <th>Species</th>\n",
       "    </tr>\n",
       "  </thead>\n",
       "  <tbody>\n",
       "    <tr>\n",
       "      <th>1</th>\n",
       "      <td>0.166667</td>\n",
       "      <td>0.416667</td>\n",
       "      <td>0.067797</td>\n",
       "      <td>0.041667</td>\n",
       "      <td>0</td>\n",
       "    </tr>\n",
       "    <tr>\n",
       "      <th>58</th>\n",
       "      <td>0.638889</td>\n",
       "      <td>0.375000</td>\n",
       "      <td>0.610169</td>\n",
       "      <td>0.500000</td>\n",
       "      <td>1</td>\n",
       "    </tr>\n",
       "    <tr>\n",
       "      <th>40</th>\n",
       "      <td>0.194444</td>\n",
       "      <td>0.625000</td>\n",
       "      <td>0.050847</td>\n",
       "      <td>0.083333</td>\n",
       "      <td>0</td>\n",
       "    </tr>\n",
       "    <tr>\n",
       "      <th>104</th>\n",
       "      <td>0.611111</td>\n",
       "      <td>0.416667</td>\n",
       "      <td>0.813559</td>\n",
       "      <td>0.875000</td>\n",
       "      <td>2</td>\n",
       "    </tr>\n",
       "    <tr>\n",
       "      <th>76</th>\n",
       "      <td>0.694444</td>\n",
       "      <td>0.333333</td>\n",
       "      <td>0.644068</td>\n",
       "      <td>0.541667</td>\n",
       "      <td>1</td>\n",
       "    </tr>\n",
       "  </tbody>\n",
       "</table>\n",
       "</div>"
      ],
      "text/plain": [
       "     SepalLengthCm  SepalWidthCm  PetalLengthCm  PetalWidthCm  Species\n",
       "1         0.166667      0.416667       0.067797      0.041667        0\n",
       "58        0.638889      0.375000       0.610169      0.500000        1\n",
       "40        0.194444      0.625000       0.050847      0.083333        0\n",
       "104       0.611111      0.416667       0.813559      0.875000        2\n",
       "76        0.694444      0.333333       0.644068      0.541667        1"
      ]
     },
     "execution_count": 9,
     "metadata": {},
     "output_type": "execute_result"
    }
   ],
   "source": [
    "# Concating both the features and Output value\n",
    "df = pd.concat([df_norm, df_target], axis=1)\n",
    "df.sample(n=5)"
   ]
  },
  {
   "cell_type": "markdown",
   "metadata": {},
   "source": [
    "### Let's seperate some data for testing purpose\n",
    "\n",
    "We will test out model on unseen data."
   ]
  },
  {
   "cell_type": "code",
   "execution_count": 10,
   "metadata": {},
   "outputs": [],
   "source": [
    "np.random.seed(9)\n",
    "mask = np.random.rand(len(df)) < 0.8\n",
    "\n",
    "df_train = df[mask]\n",
    "df_test = df[~mask]"
   ]
  },
  {
   "cell_type": "code",
   "execution_count": 11,
   "metadata": {},
   "outputs": [
    {
     "name": "stdout",
     "output_type": "stream",
     "text": [
      "Length of training data : 119\n"
     ]
    },
    {
     "data": {
      "text/html": [
       "<div>\n",
       "<style scoped>\n",
       "    .dataframe tbody tr th:only-of-type {\n",
       "        vertical-align: middle;\n",
       "    }\n",
       "\n",
       "    .dataframe tbody tr th {\n",
       "        vertical-align: top;\n",
       "    }\n",
       "\n",
       "    .dataframe thead th {\n",
       "        text-align: right;\n",
       "    }\n",
       "</style>\n",
       "<table border=\"1\" class=\"dataframe\">\n",
       "  <thead>\n",
       "    <tr style=\"text-align: right;\">\n",
       "      <th></th>\n",
       "      <th>SepalLengthCm</th>\n",
       "      <th>SepalWidthCm</th>\n",
       "      <th>PetalLengthCm</th>\n",
       "      <th>PetalWidthCm</th>\n",
       "      <th>Species</th>\n",
       "    </tr>\n",
       "  </thead>\n",
       "  <tbody>\n",
       "    <tr>\n",
       "      <th>81</th>\n",
       "      <td>0.333333</td>\n",
       "      <td>0.166667</td>\n",
       "      <td>0.457627</td>\n",
       "      <td>0.375000</td>\n",
       "      <td>1</td>\n",
       "    </tr>\n",
       "    <tr>\n",
       "      <th>53</th>\n",
       "      <td>0.333333</td>\n",
       "      <td>0.125000</td>\n",
       "      <td>0.508475</td>\n",
       "      <td>0.500000</td>\n",
       "      <td>1</td>\n",
       "    </tr>\n",
       "    <tr>\n",
       "      <th>130</th>\n",
       "      <td>0.861111</td>\n",
       "      <td>0.333333</td>\n",
       "      <td>0.864407</td>\n",
       "      <td>0.750000</td>\n",
       "      <td>2</td>\n",
       "    </tr>\n",
       "    <tr>\n",
       "      <th>136</th>\n",
       "      <td>0.555556</td>\n",
       "      <td>0.583333</td>\n",
       "      <td>0.779661</td>\n",
       "      <td>0.958333</td>\n",
       "      <td>2</td>\n",
       "    </tr>\n",
       "    <tr>\n",
       "      <th>143</th>\n",
       "      <td>0.694444</td>\n",
       "      <td>0.500000</td>\n",
       "      <td>0.830508</td>\n",
       "      <td>0.916667</td>\n",
       "      <td>2</td>\n",
       "    </tr>\n",
       "  </tbody>\n",
       "</table>\n",
       "</div>"
      ],
      "text/plain": [
       "     SepalLengthCm  SepalWidthCm  PetalLengthCm  PetalWidthCm  Species\n",
       "81        0.333333      0.166667       0.457627      0.375000        1\n",
       "53        0.333333      0.125000       0.508475      0.500000        1\n",
       "130       0.861111      0.333333       0.864407      0.750000        2\n",
       "136       0.555556      0.583333       0.779661      0.958333        2\n",
       "143       0.694444      0.500000       0.830508      0.916667        2"
      ]
     },
     "execution_count": 11,
     "metadata": {},
     "output_type": "execute_result"
    }
   ],
   "source": [
    "print(\"Length of training data : %s\" % (len(df_train)))\n",
    "df_train.sample(n=5)"
   ]
  },
  {
   "cell_type": "code",
   "execution_count": 12,
   "metadata": {},
   "outputs": [
    {
     "name": "stdout",
     "output_type": "stream",
     "text": [
      "Length of training data : 31\n"
     ]
    },
    {
     "data": {
      "text/html": [
       "<div>\n",
       "<style scoped>\n",
       "    .dataframe tbody tr th:only-of-type {\n",
       "        vertical-align: middle;\n",
       "    }\n",
       "\n",
       "    .dataframe tbody tr th {\n",
       "        vertical-align: top;\n",
       "    }\n",
       "\n",
       "    .dataframe thead th {\n",
       "        text-align: right;\n",
       "    }\n",
       "</style>\n",
       "<table border=\"1\" class=\"dataframe\">\n",
       "  <thead>\n",
       "    <tr style=\"text-align: right;\">\n",
       "      <th></th>\n",
       "      <th>SepalLengthCm</th>\n",
       "      <th>SepalWidthCm</th>\n",
       "      <th>PetalLengthCm</th>\n",
       "      <th>PetalWidthCm</th>\n",
       "      <th>Species</th>\n",
       "    </tr>\n",
       "  </thead>\n",
       "  <tbody>\n",
       "    <tr>\n",
       "      <th>62</th>\n",
       "      <td>0.472222</td>\n",
       "      <td>0.083333</td>\n",
       "      <td>0.508475</td>\n",
       "      <td>0.375000</td>\n",
       "      <td>1</td>\n",
       "    </tr>\n",
       "    <tr>\n",
       "      <th>149</th>\n",
       "      <td>0.444444</td>\n",
       "      <td>0.416667</td>\n",
       "      <td>0.694915</td>\n",
       "      <td>0.708333</td>\n",
       "      <td>2</td>\n",
       "    </tr>\n",
       "    <tr>\n",
       "      <th>135</th>\n",
       "      <td>0.944444</td>\n",
       "      <td>0.416667</td>\n",
       "      <td>0.864407</td>\n",
       "      <td>0.916667</td>\n",
       "      <td>2</td>\n",
       "    </tr>\n",
       "    <tr>\n",
       "      <th>141</th>\n",
       "      <td>0.722222</td>\n",
       "      <td>0.458333</td>\n",
       "      <td>0.694915</td>\n",
       "      <td>0.916667</td>\n",
       "      <td>2</td>\n",
       "    </tr>\n",
       "    <tr>\n",
       "      <th>11</th>\n",
       "      <td>0.138889</td>\n",
       "      <td>0.583333</td>\n",
       "      <td>0.101695</td>\n",
       "      <td>0.041667</td>\n",
       "      <td>0</td>\n",
       "    </tr>\n",
       "  </tbody>\n",
       "</table>\n",
       "</div>"
      ],
      "text/plain": [
       "     SepalLengthCm  SepalWidthCm  PetalLengthCm  PetalWidthCm  Species\n",
       "62        0.472222      0.083333       0.508475      0.375000        1\n",
       "149       0.444444      0.416667       0.694915      0.708333        2\n",
       "135       0.944444      0.416667       0.864407      0.916667        2\n",
       "141       0.722222      0.458333       0.694915      0.916667        2\n",
       "11        0.138889      0.583333       0.101695      0.041667        0"
      ]
     },
     "execution_count": 12,
     "metadata": {},
     "output_type": "execute_result"
    }
   ],
   "source": [
    "print(\"Length of training data : %s\" % (len(df_test)))\n",
    "df_test.sample(n=5)"
   ]
  },
  {
   "cell_type": "markdown",
   "metadata": {},
   "source": [
    "> **Now that we have our training dataset ready,we can now get out `input` as `X` and `output` as `y` value from our dataset to train our model**."
   ]
  },
  {
   "cell_type": "code",
   "execution_count": 13,
   "metadata": {},
   "outputs": [
    {
     "name": "stdout",
     "output_type": "stream",
     "text": [
      "[[0.22222222 0.625      0.06779661 0.04166667]\n",
      " [0.16666667 0.41666667 0.06779661 0.04166667]\n",
      " [0.11111111 0.5        0.05084746 0.04166667]\n",
      " [0.08333333 0.45833333 0.08474576 0.04166667]\n",
      " [0.19444444 0.66666667 0.06779661 0.04166667]]\n"
     ]
    }
   ],
   "source": [
    "X = df_train.values[:,:4]\n",
    "print(X[:5])"
   ]
  },
  {
   "cell_type": "code",
   "execution_count": 14,
   "metadata": {},
   "outputs": [
    {
     "name": "stdout",
     "output_type": "stream",
     "text": [
      "[[1 0 0]\n",
      " [1 0 0]\n",
      " [1 0 0]\n",
      " [1 0 0]\n",
      " [1 0 0]]\n"
     ]
    }
   ],
   "source": [
    "targets = [[1,0,0], [0,1,0], [0,0,1]]\n",
    "y = np.array([targets[int(x)] for x in df_train.values[:,4]])\n",
    "print(y[:5])"
   ]
  },
  {
   "cell_type": "markdown",
   "metadata": {},
   "source": [
    "## Backpropogating Neural Network\n",
    "\n",
    "**The neural network that we will create will have 3 layers:**\n",
    "* Input Layer\n",
    "* Hidden Layer\n",
    "* Output Layer\n",
    "\n",
    "\n",
    "1. **Input Layer**: This layer will consist of 4 nodes as we have 4 features Sepal Length, Sepal Width, Petal Length, PetalWidth.\n",
    "2. **Output Layer**: This layer will consist of 3 nodes as we have to classify between 3 outputs only. So if the value of output layer is 1,0,0 that means the prediction is Iris-setosa or if the output value is 0,1,0 then prediction will be Iris-versicolor.\n",
    "\n",
    "> `w1` will be a matrix that contains the weights of each connecting layer between Input nodes and Hidden nodes. The values of weights will range from -1 to 1 with an overall mean of 0."
   ]
  },
  {
   "cell_type": "code",
   "execution_count": 15,
   "metadata": {},
   "outputs": [
    {
     "name": "stdout",
     "output_type": "stream",
     "text": [
      "[[ 0.09800998 -0.411131    0.6123064  -0.32464679 -0.7579412 ]\n",
      " [-0.08880493 -0.50023667  0.49046621  0.47184009 -0.97959029]\n",
      " [-0.99401606  0.83601284 -0.35424988 -0.40724191 -0.45814772]\n",
      " [-0.50855211  0.55073862 -0.47352304  0.43797423  0.34657755]]\n"
     ]
    }
   ],
   "source": [
    "hidden_layer_nodes = 5\n",
    "input_layer_nodes = len(X[0])\n",
    "\n",
    "w1 = 2 * np.random.random((input_layer_nodes, hidden_layer_nodes)) - 1\n",
    "print(w1)"
   ]
  },
  {
   "cell_type": "markdown",
   "metadata": {},
   "source": [
    "> `w2` will be the weights of connection between the hidden layer and output layer. This will also has the same property same as `w1`."
   ]
  },
  {
   "cell_type": "code",
   "execution_count": 16,
   "metadata": {},
   "outputs": [
    {
     "name": "stdout",
     "output_type": "stream",
     "text": [
      "[[ 0.10106759  0.36554605 -0.65193415]\n",
      " [-0.07096386 -0.01208218 -0.94517746]\n",
      " [-0.56352332  0.86681764  0.31728857]\n",
      " [ 0.95732498 -0.26137192  0.52478076]\n",
      " [ 0.19933032  0.20418479 -0.77338472]]\n"
     ]
    }
   ],
   "source": [
    "output_layer_nodes = len(y[0])\n",
    "w2 = 2 * np.random.random((hidden_layer_nodes, output_layer_nodes)) - 1\n",
    "print(w2)"
   ]
  },
  {
   "cell_type": "markdown",
   "metadata": {},
   "source": [
    "## Train the network by updating weights using Back Propagation Algorithm\n",
    "\n",
    "The two main important parts of traning our neural network is:\n",
    "1. Forward Propagation\n",
    "2. Back Propagation\n",
    "\n",
    "\n",
    "#### Forward Propagation ( use current weights to caluculate output ):\n",
    "* In Forward Propogation, we calculate the values of nodes present in the hidden layer using the weight matix (w1) and input nodes and then calculating the value of output nodes using the hidden layer nodes and weight matrix (w2).\n",
    "\n",
    "#### Backpropagation ( update network weights ):\n",
    "* As per my views, I think this is the core of neural network since under this section we update the weight matrix based on the error using gradient discent. After we calculate the output using feed forward network, we will calculate the error in this layer by subtracting the actual output and predicted output and then we will adjust our weight matrix to minimize the error.\n",
    "\n",
    "<img src=\"https://i.imgur.com/8PejebM.png\" alt=\"Neural Network\" style=\"width:600px\"/>"
   ]
  },
  {
   "cell_type": "markdown",
   "metadata": {},
   "source": [
    "### Activation Fucntion\n",
    "\n",
    "In this netwok, we will be using the Sigmoid Activation function. But there are many other activation that you can use. The purpose of activation function is to squash the any value in the range between 0 and 1. We do this to bring non-leniarity in our model so that it can learn more complex function instead of just linear function.\n",
    "\n",
    "For your learning about activation function, here are the links to [video](https://www.youtube.com/watch?v=NkOv_k7r6no) or [reading](https://towardsdatascience.com/activation-functions-and-its-types-which-is-better-a9a5310cc8f).\n"
   ]
  },
  {
   "cell_type": "code",
   "execution_count": 17,
   "metadata": {},
   "outputs": [],
   "source": [
    "# Sigmoid Function Defination\n",
    "def sigmoid(x):\n",
    "    return 1.0 / (1.0 + np.exp(-x))\n",
    "\n",
    "def sigmoid_derivative(x):\n",
    "    return x * (1.0 - x)"
   ]
  },
  {
   "cell_type": "code",
   "execution_count": 18,
   "metadata": {},
   "outputs": [
    {
     "data": {
      "image/png": "[encoded data removed]",
      "text/plain": [
       "<Figure size 432x288 with 1 Axes>"
      ]
     },
     "metadata": {},
     "output_type": "display_data"
    }
   ],
   "source": [
    "_x = np.linspace(-5, 5, 40)\n",
    "plt.plot(sigmoid(_x))\n",
    "plt.plot(sigmoid_derivative(sigmoid(_x)))\n",
    "plt.grid()"
   ]
  },
  {
   "cell_type": "code",
   "execution_count": 19,
   "metadata": {},
   "outputs": [
    {
     "name": "stdout",
     "output_type": "stream",
     "text": [
      "Error : 0.006627397910934265\n"
     ]
    }
   ],
   "source": [
    "# Now, let's write something serious, are you ready?\n",
    "learning_rate = 0.01\n",
    "\n",
    "# To keep track of error value in every iteration\n",
    "learning_curve = []\n",
    "\n",
    "# Setting upa for loop to tarin a network using input data\n",
    "for itr in range(2000000):\n",
    "    \n",
    "    # Calculating the values of Nodes present in hidden layer using input layer and weight matrix (w1)\n",
    "    l1 = sigmoid(np.dot(X, w1))\n",
    "    \n",
    "    # Calculating the value of output nodes using hidden layer nodes and weight matrix (w2)     \n",
    "    l2 =  sigmoid(np.dot(l1, w2))\n",
    "    \n",
    "    # Error can be calculated by subtracting Actual output and Predicted output    \n",
    "    error = (abs(y - l2)).mean()\n",
    "    \n",
    "    # Let's keep track of error value of each iteration    \n",
    "    learning_curve.append(error)\n",
    "\n",
    "    l2_delta = (y - l2) * sigmoid_derivative(l2)\n",
    "    l1_delta = np.dot(l2_delta, w2.T) * sigmoid_derivative(l1)\n",
    "    \n",
    "    w2 += (np.dot(l1.T, l2_delta) * learning_rate)\n",
    "    w1 += (np.dot(X.T, l1_delta) * learning_rate)\n",
    "\n",
    "print(\"Error : %s\" % (error))"
   ]
  },
  {
   "cell_type": "markdown",
   "metadata": {},
   "source": [
    "#### Let' see how the value of error decreases with time"
   ]
  },
  {
   "cell_type": "code",
   "execution_count": 20,
   "metadata": {},
   "outputs": [
    {
     "data": {
      "image/png": "[encoded data removed]",
      "text/plain": [
       "<Figure size 432x288 with 1 Axes>"
      ]
     },
     "metadata": {},
     "output_type": "display_data"
    }
   ],
   "source": [
    "plt.axis([-5000, 100000, 0, 0.3])\n",
    "plt.plot(learning_curve)\n",
    "plt.grid()"
   ]
  },
  {
   "cell_type": "markdown",
   "metadata": {},
   "source": [
    "### Test the accuracy of our model\n",
    "Here we will run the model with the updated weights on our testing data"
   ]
  },
  {
   "cell_type": "code",
   "execution_count": 21,
   "metadata": {},
   "outputs": [
    {
     "data": {
      "text/plain": [
       "array([[0.999, 0.   , 0.   ],\n",
       "       [0.999, 0.   , 0.   ],\n",
       "       [0.998, 0.   , 0.   ],\n",
       "       [0.999, 0.   , 0.   ],\n",
       "       [0.999, 0.   , 0.   ],\n",
       "       [0.999, 0.   , 0.   ],\n",
       "       [0.999, 0.   , 0.   ],\n",
       "       [0.999, 0.   , 0.   ],\n",
       "       [0.999, 0.   , 0.   ],\n",
       "       [0.998, 0.   , 0.   ],\n",
       "       [0.999, 0.001, 0.   ],\n",
       "       [0.999, 0.053, 0.   ],\n",
       "       [0.998, 0.   , 0.   ],\n",
       "       [0.999, 0.   , 0.   ],\n",
       "       [0.004, 1.   , 0.   ],\n",
       "       [0.002, 1.   , 0.   ],\n",
       "       [0.   , 0.005, 0.996],\n",
       "       [0.   , 0.   , 1.   ],\n",
       "       [0.001, 0.007, 0.995],\n",
       "       [0.   , 0.   , 1.   ],\n",
       "       [0.   , 0.001, 1.   ],\n",
       "       [0.001, 0.449, 0.58 ],\n",
       "       [0.   , 0.   , 1.   ],\n",
       "       [0.   , 0.006, 0.995],\n",
       "       [0.   , 0.09 , 0.921],\n",
       "       [0.   , 0.155, 0.854],\n",
       "       [0.   , 0.142, 0.857],\n",
       "       [0.   , 0.177, 0.836],\n",
       "       [0.   , 0.101, 0.903],\n",
       "       [0.   , 0.004, 0.997],\n",
       "       [0.   , 0.019, 0.986]])"
      ]
     },
     "execution_count": 21,
     "metadata": {},
     "output_type": "execute_result"
    }
   ],
   "source": [
    "X = df_test.values[:,:4]\n",
    "y = np.array([targets[int(x)] for x in df_test.values[:,4:5]])\n",
    "\n",
    "\n",
    "l1 = sigmoid(np.dot(X, w1))\n",
    "l2 = sigmoid(np.dot(l1, w2))\n",
    "\n",
    "# Let's round off the values in l2 to 3 decimal place\n",
    "np.round(l2, 3)"
   ]
  },
  {
   "cell_type": "markdown",
   "metadata": {},
   "source": [
    "Now, we will get he maximum value from each row and compare that with the actual output."
   ]
  },
  {
   "cell_type": "code",
   "execution_count": 22,
   "metadata": {},
   "outputs": [
    {
     "name": "stdout",
     "output_type": "stream",
     "text": [
      "Out of 31 values, 30 are predicted correctly with an accuracy of 96.774\n"
     ]
    }
   ],
   "source": [
    "y_predicted = np.argmax(l2, axis=1)\n",
    "y_actual = np.argmax(y, axis=1)\n",
    "res = (y_predicted == y_actual)\n",
    "\n",
    "accuracy = np.round(np.sum(res)/len(res) * 100, 3)\n",
    "\n",
    "print(\"Out of %s values, %s are predicted correctly with an accuracy of %s\" % (len(res), sum(res), accuracy))"
   ]
  }
 ],
 "metadata": {
  "kernelspec": {
   "display_name": "Python 3",
   "language": "python",
   "name": "python3"
  },
  "language_info": {
   "codemirror_mode": {
    "name": "ipython",
    "version": 3
   },
   "file_extension": ".py",
   "mimetype": "text/x-python",
   "name": "python",
   "nbconvert_exporter": "python",
   "pygments_lexer": "ipython3",
   "version": "3.6.4"
  }
 },
 "nbformat": 4,
 "nbformat_minor": 1
}
